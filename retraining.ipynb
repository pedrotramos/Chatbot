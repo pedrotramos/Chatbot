{
 "cells": [
  {
   "cell_type": "code",
   "execution_count": 1,
   "metadata": {},
   "outputs": [],
   "source": [
    "import re\n",
    "import os\n",
    "import pickle\n",
    "import pandas as pd\n",
    "from sklearn.model_selection import StratifiedShuffleSplit, cross_val_predict\n",
    "from sklearn.naive_bayes import MultinomialNB\n",
    "from sklearn.feature_extraction.text import CountVectorizer\n",
    "from sklearn.metrics import accuracy_score"
   ]
  },
  {
   "cell_type": "code",
   "execution_count": 2,
   "metadata": {},
   "outputs": [],
   "source": [
    "RANDOM_SEED = 36"
   ]
  },
  {
   "cell_type": "code",
   "execution_count": 3,
   "metadata": {},
   "outputs": [],
   "source": [
    "data = pd.read_excel(\"new_sentences/newSentences.xlsx\", index_col=0)\n",
    "df_conta = data[(data[\"Intenção\"] == \"Consultar saldo da poupança\") | (data[\"Intenção\"] == \"Consultar saldo da conta-corrente\")].reset_index(drop=True)\n",
    "df_clima = data[(data[\"Intenção\"] == \"Temperatura\") | (data[\"Intenção\"] == \"Chuva\")].reset_index(drop=True)\n",
    "df_eletro = data[(data[\"Intenção\"] == \"Ar-condicionado\") | (data[\"Intenção\"] == \"Luz\")].reset_index(drop=True)\n",
    "\n",
    "data[\"Intenção\"] = data[\"Intenção\"].str.replace(\"Consultar saldo da poupança\", \"Consultar saldo da conta\", regex=False)\n",
    "data[\"Intenção\"] = data[\"Intenção\"].str.replace(\"Consultar saldo da conta-corrente\", \"Consultar saldo da conta\", regex=False)\n",
    "data[\"Intenção\"] = data[\"Intenção\"].str.replace(\"Temperatura\", \"Obter informações relativas ao clima\", regex=False)\n",
    "data[\"Intenção\"] = data[\"Intenção\"].str.replace(\"Chuva\", \"Obter informações relativas ao clima\", regex=False)\n",
    "data[\"Intenção\"] = data[\"Intenção\"].str.replace(\"Ar-condicionado\", \"Interagir com a luz ou o ar-condicionado\", regex=False)\n",
    "data[\"Intenção\"] = data[\"Intenção\"].str.replace(\"Luz\", \"Interagir com a luz ou o ar-condicionado\", regex=False)\n",
    "\n",
    "\n",
    "dfs = [data, df_conta, df_clima, df_eletro]"
   ]
  },
  {
   "cell_type": "code",
   "execution_count": 4,
   "metadata": {},
   "outputs": [
    {
     "data": {
      "text/html": [
       "<div>\n",
       "<style scoped>\n",
       "    .dataframe tbody tr th:only-of-type {\n",
       "        vertical-align: middle;\n",
       "    }\n",
       "\n",
       "    .dataframe tbody tr th {\n",
       "        vertical-align: top;\n",
       "    }\n",
       "\n",
       "    .dataframe thead th {\n",
       "        text-align: right;\n",
       "    }\n",
       "</style>\n",
       "<table border=\"1\" class=\"dataframe\">\n",
       "  <thead>\n",
       "    <tr style=\"text-align: right;\">\n",
       "      <th></th>\n",
       "      <th>Sentença</th>\n",
       "      <th>Intenção</th>\n",
       "    </tr>\n",
       "  </thead>\n",
       "  <tbody>\n",
       "    <tr>\n",
       "      <th>0</th>\n",
       "      <td>Hoje tem gol do Gabigol?</td>\n",
       "      <td>Não sei</td>\n",
       "    </tr>\n",
       "    <tr>\n",
       "      <th>1</th>\n",
       "      <td>O Thiago tem pipi grande?</td>\n",
       "      <td>Não sei</td>\n",
       "    </tr>\n",
       "    <tr>\n",
       "      <th>2</th>\n",
       "      <td>Mostre uma imagem do meu Ma</td>\n",
       "      <td>Não sei</td>\n",
       "    </tr>\n",
       "    <tr>\n",
       "      <th>3</th>\n",
       "      <td>Quem vai sair do BBB semana que vem?</td>\n",
       "      <td>Não sei</td>\n",
       "    </tr>\n",
       "    <tr>\n",
       "      <th>4</th>\n",
       "      <td>Quanto foi o jogo do Palmeiras hoje?</td>\n",
       "      <td>Não sei</td>\n",
       "    </tr>\n",
       "    <tr>\n",
       "      <th>5</th>\n",
       "      <td>Quantas estrelas existem no céu?</td>\n",
       "      <td>Não sei</td>\n",
       "    </tr>\n",
       "    <tr>\n",
       "      <th>6</th>\n",
       "      <td>Como tá a temperatura?</td>\n",
       "      <td>Obter informações relativas ao clima</td>\n",
       "    </tr>\n",
       "    <tr>\n",
       "      <th>7</th>\n",
       "      <td>Qual a chance de chover?</td>\n",
       "      <td>Obter informações relativas ao clima</td>\n",
       "    </tr>\n",
       "    <tr>\n",
       "      <th>8</th>\n",
       "      <td>Ligue a luz, por gentileza</td>\n",
       "      <td>Interagir com a luz ou o ar-condicionado</td>\n",
       "    </tr>\n",
       "    <tr>\n",
       "      <th>9</th>\n",
       "      <td>Desligue o ar, foxbot!</td>\n",
       "      <td>Interagir com a luz ou o ar-condicionado</td>\n",
       "    </tr>\n",
       "    <tr>\n",
       "      <th>10</th>\n",
       "      <td>Por favor, mostre meu saldo da poupança</td>\n",
       "      <td>Consultar saldo da conta</td>\n",
       "    </tr>\n",
       "    <tr>\n",
       "      <th>11</th>\n",
       "      <td>Por favor, mostre meu saldo</td>\n",
       "      <td>Consultar saldo da conta</td>\n",
       "    </tr>\n",
       "    <tr>\n",
       "      <th>12</th>\n",
       "      <td>dinheiro</td>\n",
       "      <td>Consultar saldo da conta</td>\n",
       "    </tr>\n",
       "    <tr>\n",
       "      <th>13</th>\n",
       "      <td>Como tô de dinheiro?</td>\n",
       "      <td>Consultar saldo da conta</td>\n",
       "    </tr>\n",
       "    <tr>\n",
       "      <th>14</th>\n",
       "      <td>Vai chover hoje?</td>\n",
       "      <td>Obter informações relativas ao clima</td>\n",
       "    </tr>\n",
       "    <tr>\n",
       "      <th>15</th>\n",
       "      <td>Liga a luz aí</td>\n",
       "      <td>Interagir com a luz ou o ar-condicionado</td>\n",
       "    </tr>\n",
       "    <tr>\n",
       "      <th>16</th>\n",
       "      <td>quanto tenho na conta</td>\n",
       "      <td>Consultar saldo da conta</td>\n",
       "    </tr>\n",
       "    <tr>\n",
       "      <th>17</th>\n",
       "      <td>esta escuro por aqui</td>\n",
       "      <td>Interagir com a luz ou o ar-condicionado</td>\n",
       "    </tr>\n",
       "  </tbody>\n",
       "</table>\n",
       "</div>"
      ],
      "text/plain": [
       "                                    Sentença  \\\n",
       "0                   Hoje tem gol do Gabigol?   \n",
       "1                  O Thiago tem pipi grande?   \n",
       "2               Mostre uma imagem do meu Ma    \n",
       "3       Quem vai sair do BBB semana que vem?   \n",
       "4      Quanto foi o jogo do Palmeiras hoje?    \n",
       "5          Quantas estrelas existem no céu?    \n",
       "6                    Como tá a temperatura?    \n",
       "7                  Qual a chance de chover?    \n",
       "8                Ligue a luz, por gentileza    \n",
       "9                    Desligue o ar, foxbot!    \n",
       "10  Por favor, mostre meu saldo da poupança    \n",
       "11              Por favor, mostre meu saldo    \n",
       "12                                 dinheiro    \n",
       "13                     Como tô de dinheiro?    \n",
       "14                         Vai chover hoje?    \n",
       "15                            Liga a luz aí    \n",
       "16                    quanto tenho na conta    \n",
       "17                     esta escuro por aqui    \n",
       "\n",
       "                                    Intenção  \n",
       "0                                    Não sei  \n",
       "1                                    Não sei  \n",
       "2                                    Não sei  \n",
       "3                                    Não sei  \n",
       "4                                    Não sei  \n",
       "5                                    Não sei  \n",
       "6       Obter informações relativas ao clima  \n",
       "7       Obter informações relativas ao clima  \n",
       "8   Interagir com a luz ou o ar-condicionado  \n",
       "9   Interagir com a luz ou o ar-condicionado  \n",
       "10                  Consultar saldo da conta  \n",
       "11                  Consultar saldo da conta  \n",
       "12                  Consultar saldo da conta  \n",
       "13                  Consultar saldo da conta  \n",
       "14      Obter informações relativas ao clima  \n",
       "15  Interagir com a luz ou o ar-condicionado  \n",
       "16                  Consultar saldo da conta  \n",
       "17  Interagir com a luz ou o ar-condicionado  "
      ]
     },
     "execution_count": 4,
     "metadata": {},
     "output_type": "execute_result"
    }
   ],
   "source": [
    "data"
   ]
  },
  {
   "cell_type": "markdown",
   "metadata": {},
   "source": [
    "## Cleaning the Dataset"
   ]
  },
  {
   "cell_type": "code",
   "execution_count": 5,
   "metadata": {},
   "outputs": [],
   "source": [
    "for df in dfs:\n",
    "    df[\"Sentença\"] = df[\"Sentença\"].str.lower()\n",
    "    df[\"Sentença\"] = df[\"Sentença\"].str.replace(r\"\\s\\-\\s|\\-\\-+\", \" \", regex=True)\n",
    "    df[\"Sentença\"] = df[\"Sentença\"].str.replace(r\"[^\\w\\s\\-]\", \" \", regex=True)\n",
    "    df[\"Sentença\"] = df[\"Sentença\"].str.replace(\"foxbot \", \"\", regex=False)"
   ]
  },
  {
   "cell_type": "markdown",
   "metadata": {},
   "source": [
    "## Adapting Data for MultinomialNB"
   ]
  },
  {
   "cell_type": "code",
   "execution_count": 6,
   "metadata": {},
   "outputs": [],
   "source": [
    "# Adapts data to be used by the MultinomialNB model and already splits into X and y.\r\n",
    "def adaptToModel(df, vectorizer, objective=None):\r\n",
    "    txts = df[\"Sentença\"].tolist()\r\n",
    "    if objective == \"train\":\r\n",
    "        counts = vectorizer.fit_transform(txts)\r\n",
    "        return counts, df[\"Intenção\"]\r\n",
    "    elif objective == \"test\":\r\n",
    "        counts = vectorizer.transform(txts)\r\n",
    "        return counts, df[\"Intenção\"]\r\n",
    "    else:\r\n",
    "        raise ValueError(\"Defina o objetivo ('train' ou 'test')\")"
   ]
  },
  {
   "cell_type": "markdown",
   "metadata": {},
   "source": [
    "## Split Datasets into Train and Test"
   ]
  },
  {
   "cell_type": "code",
   "execution_count": 7,
   "metadata": {},
   "outputs": [],
   "source": [
    "def loadModels():\n",
    "    modelTypes = [\"main\", \"clima\", \"conta\", \"eletro\"]\n",
    "    models = {}\n",
    "    vectorizers = {}\n",
    "    files = os.listdir(\"./models\")\n",
    "    for modelType in modelTypes:\n",
    "        finalNumber = 0\n",
    "        if modelType == \"main\":\n",
    "            filename = f\"model_v{finalNumber}.sav\"\n",
    "            pattern = r\"model_v\\d+.sav\"\n",
    "            pattern2 = r\"model_v(\\d)+.sav\"\n",
    "        else:\n",
    "            filename = f\"model_{modelType}_v{finalNumber}.sav\"\n",
    "            pattern = fr\"model_{modelType}_v\\d+.sav\"\n",
    "            pattern2 = fr\"model_{modelType}_v(\\d)+.sav\"\n",
    "        for f in files:\n",
    "            if re.fullmatch(pattern, f):\n",
    "                current = int(re.sub(pattern2, r\"\\1\", filename))\n",
    "                possible = int(re.sub(pattern2, r\"\\1\", f))\n",
    "                if possible > current:\n",
    "                    filename = f\n",
    "                    finalNumber = possible\n",
    "        if modelType == \"main\":\n",
    "            model = pickle.load(open(f\"models/model_v{finalNumber}.sav\", \"rb\"))\n",
    "            vectorizer = pickle.load(\n",
    "                open(f\"vectorizers/vectorizer.sav\", \"rb\")\n",
    "            )\n",
    "        else:\n",
    "            model = pickle.load(\n",
    "                open(f\"models/model_{modelType}_v{finalNumber}.sav\", \"rb\")\n",
    "            )\n",
    "            vectorizer = pickle.load(\n",
    "                open(f\"vectorizers/vectorizer_{modelType}.sav\", \"rb\")\n",
    "            )\n",
    "        models[modelType] = model\n",
    "        vectorizers[modelType] = vectorizer\n",
    "    return models, vectorizers, finalNumber"
   ]
  },
  {
   "cell_type": "code",
   "execution_count": 8,
   "metadata": {},
   "outputs": [],
   "source": [
    "lastModels, lastVectorizers, num = loadModels()"
   ]
  },
  {
   "cell_type": "code",
   "execution_count": 9,
   "metadata": {},
   "outputs": [],
   "source": [
    "df1 = pd.read_excel(\"sentences/sentences.xlsx\")\n",
    "df1_conta = pd.read_excel(\"sentences/sentences_conta.xlsx\")\n",
    "df1_clima = pd.read_excel(\"sentences/sentences_clima.xlsx\")\n",
    "df1_eletro = pd.read_excel(\"sentences/sentences_eletro.xlsx\")\n",
    "\n",
    "df1 = df1.append(data, ignore_index=True)\n",
    "df1_conta = df1_conta.append(df_conta, ignore_index=True)\n",
    "df1_clima = df1_clima.append(df_clima, ignore_index=True)\n",
    "df1_eletro = df1_eletro.append(df_eletro, ignore_index=True)"
   ]
  },
  {
   "cell_type": "code",
   "execution_count": 10,
   "metadata": {},
   "outputs": [],
   "source": [
    "# Splits dataset into stratified train and test sets.\r\n",
    "models = {\r\n",
    "    \"main\" : {\r\n",
    "        \"model\" : lastModels[\"main\"], \"vectorizer\" : lastVectorizers[\"main\"], \"newData\" : data, \"consolidated\" : df1 \r\n",
    "    },\r\n",
    "    \"conta\" : {\r\n",
    "        \"model\" : lastModels[\"conta\"], \"vectorizer\" : lastVectorizers[\"conta\"], \"newData\" : df_conta, \"consolidated\" : df1_conta\r\n",
    "    },\r\n",
    "    \"clima\" : {\r\n",
    "        \"model\" : lastModels[\"clima\"], \"vectorizer\" : lastVectorizers[\"clima\"], \"newData\" : df_clima, \"consolidated\" : df1_clima\r\n",
    "    },\r\n",
    "    \"eletro\" : {\r\n",
    "        \"model\" : lastModels[\"eletro\"], \"vectorizer\" : lastVectorizers[\"eletro\"], \"newData\" : df_eletro, \"consolidated\" : df1_eletro\r\n",
    "    }\r\n",
    "}\r\n",
    "\r\n",
    "for sub_class in models.keys():\r\n",
    "    classNames = models[sub_class][\"newData\"][\"Intenção\"].unique().tolist()\r\n",
    "    \r\n",
    "    X = models[sub_class][\"vectorizer\"].transform(models[sub_class][\"newData\"][\"Sentença\"].tolist())\r\n",
    "    y = models[sub_class][\"newData\"][\"Intenção\"]\r\n",
    "    models[sub_class][\"model\"].partial_fit(X, y, classes=classNames)"
   ]
  },
  {
   "cell_type": "code",
   "execution_count": 11,
   "metadata": {},
   "outputs": [],
   "source": [
    "for sub_class in models.keys():\n",
    "    split = StratifiedShuffleSplit(n_splits=1, test_size=0.2, random_state=RANDOM_SEED)\n",
    "    for train_index, test_index in split.split(models[sub_class][\"consolidated\"], models[sub_class][\"consolidated\"][\"Intenção\"]):\n",
    "        strat_train_set = models[sub_class][\"consolidated\"].loc[train_index]\n",
    "        strat_test_set = models[sub_class][\"consolidated\"].loc[test_index]\n",
    "    models[sub_class][\"train\"] = strat_train_set\n",
    "    models[sub_class][\"test\"] = strat_test_set"
   ]
  },
  {
   "cell_type": "markdown",
   "metadata": {},
   "source": [
    "## Training the models"
   ]
  },
  {
   "cell_type": "code",
   "execution_count": 12,
   "metadata": {},
   "outputs": [],
   "source": [
    "for sub_class in models.keys():\n",
    "    X_train, y_train = adaptToModel(models[sub_class][\"train\"], vectorizer=models[sub_class][\"vectorizer\"], objective=\"train\")\n",
    "    models[sub_class][\"model\"].fit(X_train, y_train)\n"
   ]
  },
  {
   "cell_type": "markdown",
   "metadata": {},
   "source": [
    "## Testing the models"
   ]
  },
  {
   "cell_type": "code",
   "execution_count": 13,
   "metadata": {},
   "outputs": [],
   "source": [
    "for sub_class in models.keys():\n",
    "    X_test, y_test = adaptToModel(models[sub_class][\"test\"], vectorizer=models[sub_class][\"vectorizer\"], objective=\"test\")\n",
    "    pred = cross_val_predict(models[sub_class][\"model\"], X_test, y_test, cv=5, n_jobs=-1)\n",
    "    score = accuracy_score(y_test, pred)\n",
    "    models[sub_class][\"accuracy\"] = score"
   ]
  },
  {
   "cell_type": "code",
   "execution_count": 14,
   "metadata": {},
   "outputs": [
    {
     "name": "stdout",
     "output_type": "stream",
     "text": [
      "Acurácia main: 80.00%\n",
      "Acurácia conta: 96.00%\n",
      "Acurácia clima: 92.86%\n",
      "Acurácia eletro: 100.00%\n"
     ]
    }
   ],
   "source": [
    "for sub_class in models.keys():\n",
    "    print(f\"Acurácia {sub_class}: {models[sub_class]['accuracy'] * 100:.2f}%\")"
   ]
  },
  {
   "cell_type": "code",
   "execution_count": 15,
   "metadata": {},
   "outputs": [],
   "source": [
    "pd.DataFrame().to_excel(\"new_sentences/newSentences.xlsx\")"
   ]
  },
  {
   "cell_type": "markdown",
   "metadata": {},
   "source": [
    "## Saving the models"
   ]
  },
  {
   "cell_type": "code",
   "execution_count": 16,
   "metadata": {},
   "outputs": [],
   "source": [
    "for sub_class in models.keys():\n",
    "    if sub_class == \"main\":\n",
    "        pickle.dump(models[sub_class][\"model\"], open(f\"models/model_v{num + 1}.sav\", \"wb\"))\n",
    "    else:\n",
    "        pickle.dump(models[sub_class][\"model\"], open(f\"models/model_{sub_class}_v{num + 1}.sav\", \"wb\"))\n",
    "        "
   ]
  },
  {
   "cell_type": "code",
   "execution_count": null,
   "metadata": {},
   "outputs": [],
   "source": []
  }
 ],
 "metadata": {
  "interpreter": {
   "hash": "11e3bc8161ab6b796458d7b0073fb875b15767c94894a8c47da2c909a7b0c5b1"
  },
  "kernelspec": {
   "display_name": "Python 3.9.5 64-bit",
   "name": "python3"
  },
  "language_info": {
   "name": "python",
   "version": ""
  },
  "metadata": {
   "interpreter": {
    "hash": "885c827cd822ba134d644bf7ec93dbbe54e503b864e406fdb8a7c16e78521c44"
   }
  }
 },
 "nbformat": 4,
 "nbformat_minor": 4
}