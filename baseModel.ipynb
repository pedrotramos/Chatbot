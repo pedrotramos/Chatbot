{
 "metadata": {
  "language_info": {
   "codemirror_mode": {
    "name": "ipython",
    "version": 3
   },
   "file_extension": ".py",
   "mimetype": "text/x-python",
   "name": "python",
   "nbconvert_exporter": "python",
   "pygments_lexer": "ipython3",
   "version": "3.8.3-final"
  },
  "orig_nbformat": 2,
  "kernelspec": {
   "name": "python38364bit151967a17fef4cecb07517113527f558",
   "display_name": "Python 3.8.3 64-bit"
  },
  "metadata": {
   "interpreter": {
    "hash": "885c827cd822ba134d644bf7ec93dbbe54e503b864e406fdb8a7c16e78521c44"
   }
  }
 },
 "nbformat": 4,
 "nbformat_minor": 2,
 "cells": [
  {
   "cell_type": "code",
   "execution_count": 1,
   "metadata": {},
   "outputs": [],
   "source": [
    "import re\n",
    "import pickle\n",
    "import pandas as pd\n",
    "from textblob import TextBlob\n",
    "from spellchecker import SpellChecker\n",
    "from sklearn.model_selection import StratifiedShuffleSplit, cross_val_predict\n",
    "from sklearn.naive_bayes import MultinomialNB\n",
    "from sklearn.feature_extraction.text import CountVectorizer\n",
    "from sklearn.metrics import accuracy_score"
   ]
  },
  {
   "cell_type": "code",
   "execution_count": 2,
   "metadata": {},
   "outputs": [],
   "source": [
    "RANDOM_SEED = 13"
   ]
  },
  {
   "cell_type": "code",
   "execution_count": 3,
   "metadata": {},
   "outputs": [
    {
     "output_type": "execute_result",
     "data": {
      "text/plain": [
       "                                   Intenção           Sentença\n",
       "0                  Consultar saldo da conta   Qual o meu saldo\n",
       "1  Interagir com a luz ou o ar-condicionado        Ligue a luz\n",
       "2                  Consultar saldo da conta  Me diga meu saldo\n",
       "3                  Consultar saldo da conta  Qual o meu saldo?\n",
       "4  Interagir com a luz ou o ar-condicionado   está muito claro"
      ],
      "text/html": "<div>\n<style scoped>\n    .dataframe tbody tr th:only-of-type {\n        vertical-align: middle;\n    }\n\n    .dataframe tbody tr th {\n        vertical-align: top;\n    }\n\n    .dataframe thead th {\n        text-align: right;\n    }\n</style>\n<table border=\"1\" class=\"dataframe\">\n  <thead>\n    <tr style=\"text-align: right;\">\n      <th></th>\n      <th>Intenção</th>\n      <th>Sentença</th>\n    </tr>\n  </thead>\n  <tbody>\n    <tr>\n      <th>0</th>\n      <td>Consultar saldo da conta</td>\n      <td>Qual o meu saldo</td>\n    </tr>\n    <tr>\n      <th>1</th>\n      <td>Interagir com a luz ou o ar-condicionado</td>\n      <td>Ligue a luz</td>\n    </tr>\n    <tr>\n      <th>2</th>\n      <td>Consultar saldo da conta</td>\n      <td>Me diga meu saldo</td>\n    </tr>\n    <tr>\n      <th>3</th>\n      <td>Consultar saldo da conta</td>\n      <td>Qual o meu saldo?</td>\n    </tr>\n    <tr>\n      <th>4</th>\n      <td>Interagir com a luz ou o ar-condicionado</td>\n      <td>está muito claro</td>\n    </tr>\n  </tbody>\n</table>\n</div>"
     },
     "metadata": {},
     "execution_count": 3
    }
   ],
   "source": [
    "df = pd.read_excel(\"sentences.xlsx\")\n",
    "df.head()"
   ]
  },
  {
   "source": [
    "## Limpando o dataset"
   ],
   "cell_type": "markdown",
   "metadata": {}
  },
  {
   "cell_type": "code",
   "execution_count": 4,
   "metadata": {},
   "outputs": [
    {
     "output_type": "execute_result",
     "data": {
      "text/plain": [
       "                                   Intenção           Sentença\n",
       "0                  Consultar saldo da conta   qual o meu saldo\n",
       "1  Interagir com a luz ou o ar-condicionado        ligue a luz\n",
       "2                  Consultar saldo da conta  me diga meu saldo\n",
       "3                  Consultar saldo da conta  qual o meu saldo \n",
       "4  Interagir com a luz ou o ar-condicionado   está muito claro"
      ],
      "text/html": "<div>\n<style scoped>\n    .dataframe tbody tr th:only-of-type {\n        vertical-align: middle;\n    }\n\n    .dataframe tbody tr th {\n        vertical-align: top;\n    }\n\n    .dataframe thead th {\n        text-align: right;\n    }\n</style>\n<table border=\"1\" class=\"dataframe\">\n  <thead>\n    <tr style=\"text-align: right;\">\n      <th></th>\n      <th>Intenção</th>\n      <th>Sentença</th>\n    </tr>\n  </thead>\n  <tbody>\n    <tr>\n      <th>0</th>\n      <td>Consultar saldo da conta</td>\n      <td>qual o meu saldo</td>\n    </tr>\n    <tr>\n      <th>1</th>\n      <td>Interagir com a luz ou o ar-condicionado</td>\n      <td>ligue a luz</td>\n    </tr>\n    <tr>\n      <th>2</th>\n      <td>Consultar saldo da conta</td>\n      <td>me diga meu saldo</td>\n    </tr>\n    <tr>\n      <th>3</th>\n      <td>Consultar saldo da conta</td>\n      <td>qual o meu saldo</td>\n    </tr>\n    <tr>\n      <th>4</th>\n      <td>Interagir com a luz ou o ar-condicionado</td>\n      <td>está muito claro</td>\n    </tr>\n  </tbody>\n</table>\n</div>"
     },
     "metadata": {},
     "execution_count": 4
    }
   ],
   "source": [
    "df[\"Sentença\"] = df[\"Sentença\"].str.lower()\n",
    "df[\"Sentença\"] = df[\"Sentença\"].str.replace(r\"\\s\\-\\s|\\-\\-+\", \" \", regex=True)\n",
    "df[\"Sentença\"] = df[\"Sentença\"].str.replace(r\"[^\\w\\s\\-]\", \" \", regex=True)\n",
    "df[\"Sentença\"] = df[\"Sentença\"].str.replace(\"foxbot \", \"\", regex=False)\n",
    "df.head()"
   ]
  },
  {
   "source": [
    "## Adequação dos dados para o MultinomialNB"
   ],
   "cell_type": "markdown",
   "metadata": {}
  },
  {
   "cell_type": "code",
   "execution_count": 5,
   "metadata": {},
   "outputs": [],
   "source": [
    "# Adequa os dados para entrada no modelo MultinomialNB e já separa em X e y.\n",
    "v = CountVectorizer()\n",
    "def adaptToModel(df, objective=None, vectorizer=v):\n",
    "    txts = df[\"Sentença\"].tolist()\n",
    "    if objective == \"train\":\n",
    "        counts = vectorizer.fit_transform(txts)\n",
    "        return counts, df[\"Intenção\"]\n",
    "    elif objective == \"test\":\n",
    "        counts = vectorizer.transform(txts)\n",
    "        return counts, df[\"Intenção\"]\n",
    "    else:\n",
    "        raise ValueError(\"Defina o objetivo ('train' ou 'test')\")"
   ]
  },
  {
   "source": [
    "## Separando o dataset em treinamento e teste"
   ],
   "cell_type": "markdown",
   "metadata": {}
  },
  {
   "cell_type": "code",
   "execution_count": 6,
   "metadata": {},
   "outputs": [],
   "source": [
    "# Divide em treinamento e teste, de modo estratificado, o conjunto de dados.\n",
    "split = StratifiedShuffleSplit(n_splits=1, test_size=0.2, random_state=RANDOM_SEED)\n",
    "for train_index, test_index in split.split(df, df[\"Intenção\"]):\n",
    "    strat_train_set = df.loc[train_index]\n",
    "    strat_test_set = df.loc[test_index]"
   ]
  },
  {
   "source": [
    "## Treinando o modelo"
   ],
   "cell_type": "markdown",
   "metadata": {}
  },
  {
   "cell_type": "code",
   "execution_count": 7,
   "metadata": {},
   "outputs": [
    {
     "output_type": "execute_result",
     "data": {
      "text/plain": [
       "MultinomialNB()"
      ]
     },
     "metadata": {},
     "execution_count": 7
    }
   ],
   "source": [
    "model = MultinomialNB()\n",
    "X_train, y_train = adaptToModel(strat_train_set, objective=\"train\")\n",
    "model.fit(X_train, y_train)\n"
   ]
  },
  {
   "source": [
    "## Testando o modelo"
   ],
   "cell_type": "markdown",
   "metadata": {}
  },
  {
   "cell_type": "code",
   "execution_count": 8,
   "metadata": {},
   "outputs": [],
   "source": [
    "X_test, y_test = adaptToModel(strat_test_set, objective=\"test\")"
   ]
  },
  {
   "cell_type": "code",
   "execution_count": 9,
   "metadata": {},
   "outputs": [],
   "source": [
    "pred = cross_val_predict(model, X_test, y_test, cv=10, n_jobs=-1)"
   ]
  },
  {
   "cell_type": "code",
   "execution_count": 10,
   "metadata": {},
   "outputs": [
    {
     "output_type": "execute_result",
     "data": {
      "text/plain": [
       "                                  Sentença  \\\n",
       "59          como vai estar o clima amanhã    \n",
       "233     apague todas as luzes  vou dormir    \n",
       "112                              menos luz   \n",
       "349  aumente a potência do ar-condicionado   \n",
       "294               boa noite  apague a luz    \n",
       "\n",
       "                                         Real  \\\n",
       "59       Obter informações relativas ao clima   \n",
       "233  Interagir com a luz ou o ar-condicionado   \n",
       "112  Interagir com a luz ou o ar-condicionado   \n",
       "349  Interagir com a luz ou o ar-condicionado   \n",
       "294  Interagir com a luz ou o ar-condicionado   \n",
       "\n",
       "                                    Predicted  \n",
       "59       Obter informações relativas ao clima  \n",
       "233  Interagir com a luz ou o ar-condicionado  \n",
       "112  Interagir com a luz ou o ar-condicionado  \n",
       "349  Interagir com a luz ou o ar-condicionado  \n",
       "294  Interagir com a luz ou o ar-condicionado  "
      ],
      "text/html": "<div>\n<style scoped>\n    .dataframe tbody tr th:only-of-type {\n        vertical-align: middle;\n    }\n\n    .dataframe tbody tr th {\n        vertical-align: top;\n    }\n\n    .dataframe thead th {\n        text-align: right;\n    }\n</style>\n<table border=\"1\" class=\"dataframe\">\n  <thead>\n    <tr style=\"text-align: right;\">\n      <th></th>\n      <th>Sentença</th>\n      <th>Real</th>\n      <th>Predicted</th>\n    </tr>\n  </thead>\n  <tbody>\n    <tr>\n      <th>59</th>\n      <td>como vai estar o clima amanhã</td>\n      <td>Obter informações relativas ao clima</td>\n      <td>Obter informações relativas ao clima</td>\n    </tr>\n    <tr>\n      <th>233</th>\n      <td>apague todas as luzes  vou dormir</td>\n      <td>Interagir com a luz ou o ar-condicionado</td>\n      <td>Interagir com a luz ou o ar-condicionado</td>\n    </tr>\n    <tr>\n      <th>112</th>\n      <td>menos luz</td>\n      <td>Interagir com a luz ou o ar-condicionado</td>\n      <td>Interagir com a luz ou o ar-condicionado</td>\n    </tr>\n    <tr>\n      <th>349</th>\n      <td>aumente a potência do ar-condicionado</td>\n      <td>Interagir com a luz ou o ar-condicionado</td>\n      <td>Interagir com a luz ou o ar-condicionado</td>\n    </tr>\n    <tr>\n      <th>294</th>\n      <td>boa noite  apague a luz</td>\n      <td>Interagir com a luz ou o ar-condicionado</td>\n      <td>Interagir com a luz ou o ar-condicionado</td>\n    </tr>\n  </tbody>\n</table>\n</div>"
     },
     "metadata": {},
     "execution_count": 10
    }
   ],
   "source": [
    "output = pd.DataFrame()\n",
    "output[\"Sentença\"] = strat_test_set[\"Sentença\"]\n",
    "output[\"Real\"] = y_test\n",
    "output[\"Predicted\"] = pred\n",
    "output.head()"
   ]
  },
  {
   "cell_type": "code",
   "execution_count": 11,
   "metadata": {},
   "outputs": [
    {
     "output_type": "stream",
     "name": "stdout",
     "text": [
      "Acurácia: 91.11%\n"
     ]
    }
   ],
   "source": [
    "score = accuracy_score(output[\"Real\"], output[\"Predicted\"])\n",
    "print(f\"Acurácia: {score * 100:.2f}%\")"
   ]
  },
  {
   "source": [
    "## Função que prevê a classe de uma nova sentença\n",
    "\n",
    "Ela checa se a frase está em português, faz a correção ortográfica e classifica."
   ],
   "cell_type": "markdown",
   "metadata": {}
  },
  {
   "cell_type": "code",
   "execution_count": 12,
   "metadata": {},
   "outputs": [],
   "source": [
    "def predNewSentence(txt, predModel=model, vectorizer=v):\n",
    "    if TextBlob(txt).detect_language() == \"pt\":\n",
    "        sentence = \"\"\n",
    "        text = re.sub(r\"\\s\\-\\s|\\-\\-+\", \" \", txt.lower())\n",
    "        text = re.sub(r\"[^\\w\\s\\-]\", \" \", text)\n",
    "        text = re.sub(r\"foxbot \", \"\", text)\n",
    "        spellCheck = SpellChecker(language=\"pt\")\n",
    "        for word in text.split():\n",
    "            sentence += spellCheck.correction(word) + \" \"\n",
    "        counts = vectorizer.transform([sentence])\n",
    "        return predModel.predict(counts)[0]\n",
    "    else:\n",
    "        raise ValueError(\"O modelo só é capaz de trabalhar com frases em português!\")"
   ]
  },
  {
   "source": [
    "## Treinando o modelo com todos os dados da base\n",
    "\n",
    "Como o modelo já foi validado podemos treinar o modelo com toda a base de dados para ter previsões ainda melhores."
   ],
   "cell_type": "markdown",
   "metadata": {}
  },
  {
   "cell_type": "code",
   "execution_count": 13,
   "metadata": {},
   "outputs": [
    {
     "output_type": "execute_result",
     "data": {
      "text/plain": [
       "MultinomialNB()"
      ]
     },
     "metadata": {},
     "execution_count": 13
    }
   ],
   "source": [
    "X, y = adaptToModel(df, objective=\"train\")\n",
    "model.fit(X, y)"
   ]
  },
  {
   "source": [
    "## Realizando a previsão de alguns exemplos"
   ],
   "cell_type": "markdown",
   "metadata": {}
  },
  {
   "cell_type": "code",
   "execution_count": 14,
   "metadata": {},
   "outputs": [
    {
     "output_type": "execute_result",
     "data": {
      "text/plain": [
       "'Interagir com a luz ou o ar-condicionado'"
      ]
     },
     "metadata": {},
     "execution_count": 14
    }
   ],
   "source": [
    "predNewSentence(\"Acende a luz por favor!\", predModel=model)"
   ]
  },
  {
   "cell_type": "code",
   "execution_count": 15,
   "metadata": {},
   "outputs": [
    {
     "output_type": "execute_result",
     "data": {
      "text/plain": [
       "'Consultar saldo da conta'"
      ]
     },
     "metadata": {},
     "execution_count": 15
    }
   ],
   "source": [
    "predNewSentence(\"Foxbot, como tá a minha conta bancária?\", predModel=model)"
   ]
  },
  {
   "cell_type": "code",
   "execution_count": 16,
   "metadata": {},
   "outputs": [
    {
     "output_type": "execute_result",
     "data": {
      "text/plain": [
       "'Obter informações relativas ao clima'"
      ]
     },
     "metadata": {},
     "execution_count": 16
    }
   ],
   "source": [
    "predNewSentence(\"Vai fazer sol depois de amanhã?\", predModel=model)"
   ]
  },
  {
   "cell_type": "code",
   "execution_count": 17,
   "metadata": {},
   "outputs": [
    {
     "output_type": "execute_result",
     "data": {
      "text/plain": [
       "'Não sei'"
      ]
     },
     "metadata": {},
     "execution_count": 17
    }
   ],
   "source": [
    "predNewSentence(\"Marque uma consulta com o fisioterapeuta para segunda às 10 horas.\", predModel=model)"
   ]
  },
  {
   "source": [
    "## Salvando o modelo"
   ],
   "cell_type": "markdown",
   "metadata": {}
  },
  {
   "cell_type": "code",
   "execution_count": 18,
   "metadata": {},
   "outputs": [],
   "source": [
    "pickle.dump(model, open(\"model_v0.sav\", \"wb\"))\n",
    "pickle.dump(v, open(\"vectorizer_v0.sav\", \"wb\"))"
   ]
  }
 ]
}