{
 "cells": [
  {
   "cell_type": "code",
   "execution_count": 1,
   "metadata": {},
   "outputs": [],
   "source": [
    "import re\n",
    "import pickle\n",
    "import pandas as pd\n",
    "from textblob import TextBlob\n",
    "from spellchecker import SpellChecker\n",
    "from sklearn.model_selection import StratifiedShuffleSplit, cross_val_predict\n",
    "from sklearn.naive_bayes import MultinomialNB\n",
    "from sklearn.feature_extraction.text import CountVectorizer\n",
    "from sklearn.metrics import accuracy_score"
   ]
  },
  {
   "cell_type": "code",
   "execution_count": 2,
   "metadata": {},
   "outputs": [],
   "source": [
    "RANDOM_SEED = 8"
   ]
  },
  {
   "cell_type": "code",
   "execution_count": 3,
   "metadata": {},
   "outputs": [],
   "source": [
    "df_conta = pd.read_excel(\"sentences/sentences_conta.xlsx\")\n",
    "df_clima = pd.read_excel(\"sentences/sentences_clima.xlsx\")\n",
    "df_eletro = pd.read_excel(\"sentences/sentences_eletro.xlsx\")\n",
    "dfs = [df_conta, df_clima, df_eletro]"
   ]
  },
  {
   "cell_type": "markdown",
   "metadata": {},
   "source": [
    "## Cleaning the Datasets"
   ]
  },
  {
   "cell_type": "code",
   "execution_count": 4,
   "metadata": {},
   "outputs": [],
   "source": [
    "for df in dfs:\n",
    "    df[\"Sentença\"] = df[\"Sentença\"].str.lower()\n",
    "    df[\"Sentença\"] = df[\"Sentença\"].str.replace(r\"\\s\\-\\s|\\-\\-+\", \" \", regex=True)\n",
    "    df[\"Sentença\"] = df[\"Sentença\"].str.replace(r\"[^\\w\\s\\-]\", \" \", regex=True)\n",
    "    df[\"Sentença\"] = df[\"Sentença\"].str.replace(\"foxbot \", \"\", regex=False)"
   ]
  },
  {
   "cell_type": "markdown",
   "metadata": {},
   "source": [
    "## Adapting Data for MultinomialNB"
   ]
  },
  {
   "cell_type": "code",
   "execution_count": 5,
   "metadata": {},
   "outputs": [],
   "source": [
    "# Adapts data to be used by the MultinomialNB model and already splits into X and y.\r\n",
    "def adaptToModel(df, vectorizer, objective=None):\r\n",
    "    txts = df[\"Sentença\"].tolist()\r\n",
    "    if objective == \"train\":\r\n",
    "        counts = vectorizer.fit_transform(txts)\r\n",
    "        return counts, df[\"Intenção\"]\r\n",
    "    elif objective == \"test\":\r\n",
    "        counts = vectorizer.transform(txts)\r\n",
    "        return counts, df[\"Intenção\"]\r\n",
    "    else:\r\n",
    "        raise ValueError(\"Defina o objetivo ('train' ou 'test')\")"
   ]
  },
  {
   "cell_type": "markdown",
   "metadata": {},
   "source": [
    "## Split Datasets into Train and Test"
   ]
  },
  {
   "cell_type": "code",
   "execution_count": 6,
   "metadata": {},
   "outputs": [],
   "source": [
    "# Splits dataset into stratified train and test sets.\r\n",
    "models = {\r\n",
    "    \"conta\" : {\"model\" : MultinomialNB(), \"vectorizer\" : CountVectorizer(), \"df\" : df_conta},\r\n",
    "    \"clima\" : {\"model\" : MultinomialNB(), \"vectorizer\" : CountVectorizer(), \"df\" : df_clima},\r\n",
    "    \"eletro\" : {\"model\" : MultinomialNB(), \"vectorizer\" : CountVectorizer(), \"df\" : df_eletro}\r\n",
    "}\r\n",
    "for sub_class in models.keys():\r\n",
    "    split = StratifiedShuffleSplit(n_splits=1, test_size=0.2, random_state=RANDOM_SEED)\r\n",
    "    for train_index, test_index in split.split(models[sub_class][\"df\"], models[sub_class][\"df\"][\"Intenção\"]):\r\n",
    "        strat_train_set = models[sub_class][\"df\"].loc[train_index]\r\n",
    "        strat_test_set = models[sub_class][\"df\"].loc[test_index]\r\n",
    "    models[sub_class][\"train\"] = strat_train_set\r\n",
    "    models[sub_class][\"test\"] = strat_test_set"
   ]
  },
  {
   "cell_type": "markdown",
   "metadata": {},
   "source": [
    "## Training the Models"
   ]
  },
  {
   "cell_type": "code",
   "execution_count": 7,
   "metadata": {},
   "outputs": [],
   "source": [
    "for sub_class in models.keys():\n",
    "    X_train, y_train = adaptToModel(models[sub_class][\"train\"], vectorizer=models[sub_class][\"vectorizer\"], objective=\"train\")\n",
    "    models[sub_class][\"model\"].fit(X_train, y_train)\n"
   ]
  },
  {
   "cell_type": "markdown",
   "metadata": {},
   "source": [
    "## Testing the Models"
   ]
  },
  {
   "cell_type": "code",
   "execution_count": 8,
   "metadata": {},
   "outputs": [],
   "source": [
    "for sub_class in models.keys():\n",
    "    X_test, y_test = adaptToModel(models[sub_class][\"test\"], vectorizer=models[sub_class][\"vectorizer\"], objective=\"test\")\n",
    "    pred = cross_val_predict(models[sub_class][\"model\"], X_test, y_test, cv=3, n_jobs=-1)\n",
    "    score = accuracy_score(y_test, pred)\n",
    "    models[sub_class][\"accuracy\"] = score"
   ]
  },
  {
   "cell_type": "code",
   "execution_count": 9,
   "metadata": {},
   "outputs": [
    {
     "name": "stdout",
     "output_type": "stream",
     "text": [
      "Acurácia conta: 91.67%\n",
      "Acurácia clima: 85.19%\n",
      "Acurácia eletro: 95.24%\n"
     ]
    }
   ],
   "source": [
    "for sub_class in models.keys():\n",
    "    print(f\"Acurácia {sub_class}: {models[sub_class]['accuracy'] * 100:.2f}%\")"
   ]
  },
  {
   "cell_type": "markdown",
   "metadata": {},
   "source": [
    "## Saving the Models"
   ]
  },
  {
   "cell_type": "code",
   "execution_count": 10,
   "metadata": {},
   "outputs": [],
   "source": [
    "for sub_class in models.keys():\n",
    "    pickle.dump(models[sub_class][\"model\"], open(f\"models/model_{sub_class}_v0.sav\", \"wb\"))\n",
    "    pickle.dump(models[sub_class][\"vectorizer\"], open(f\"vectorizers/vectorizer_{sub_class}_v0.sav\", \"wb\"))"
   ]
  },
  {
   "cell_type": "code",
   "execution_count": null,
   "metadata": {},
   "outputs": [],
   "source": []
  }
 ],
 "metadata": {
  "interpreter": {
   "hash": "11e3bc8161ab6b796458d7b0073fb875b15767c94894a8c47da2c909a7b0c5b1"
  },
  "kernelspec": {
   "display_name": "Python 3.9.5 64-bit",
   "name": "python3"
  },
  "language_info": {
   "name": "python",
   "version": ""
  },
  "metadata": {
   "interpreter": {
    "hash": "885c827cd822ba134d644bf7ec93dbbe54e503b864e406fdb8a7c16e78521c44"
   }
  }
 },
 "nbformat": 4,
 "nbformat_minor": 4
}