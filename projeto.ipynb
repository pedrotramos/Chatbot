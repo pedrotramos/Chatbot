{
 "metadata": {
  "language_info": {
   "codemirror_mode": {
    "name": "ipython",
    "version": 3
   },
   "file_extension": ".py",
   "mimetype": "text/x-python",
   "name": "python",
   "nbconvert_exporter": "python",
   "pygments_lexer": "ipython3",
   "version": "3.8.3-final"
  },
  "orig_nbformat": 2,
  "kernelspec": {
   "name": "python38364bit151967a17fef4cecb07517113527f558",
   "display_name": "Python 3.8.3 64-bit"
  },
  "metadata": {
   "interpreter": {
    "hash": "885c827cd822ba134d644bf7ec93dbbe54e503b864e406fdb8a7c16e78521c44"
   }
  }
 },
 "nbformat": 4,
 "nbformat_minor": 2,
 "cells": [
  {
   "cell_type": "code",
   "execution_count": 12,
   "metadata": {},
   "outputs": [],
   "source": [
    "import pandas as pd\n",
    "from sklearn.model_selection import StratifiedShuffleSplit, cross_val_predict\n",
    "from sklearn.naive_bayes import MultinomialNB\n",
    "from sklearn.feature_extraction.text import CountVectorizer\n",
    "from sklearn.metrics import accuracy_score"
   ]
  },
  {
   "cell_type": "code",
   "execution_count": 13,
   "metadata": {},
   "outputs": [],
   "source": [
    "RANDOM_SEED = 13"
   ]
  },
  {
   "cell_type": "code",
   "execution_count": 14,
   "metadata": {},
   "outputs": [
    {
     "output_type": "execute_result",
     "data": {
      "text/plain": [
       "                                   Intenção           Sentença\n",
       "0                  Consultar saldo da conta   Qual o meu saldo\n",
       "1  Interagir com a luz ou o ar-condicionado        Ligue a luz\n",
       "2                  Consultar saldo da conta  Me diga meu saldo\n",
       "3                  Consultar saldo da conta  Qual o meu saldo?\n",
       "4  Interagir com a luz ou o ar-condicionado   está muito claro"
      ],
      "text/html": "<div>\n<style scoped>\n    .dataframe tbody tr th:only-of-type {\n        vertical-align: middle;\n    }\n\n    .dataframe tbody tr th {\n        vertical-align: top;\n    }\n\n    .dataframe thead th {\n        text-align: right;\n    }\n</style>\n<table border=\"1\" class=\"dataframe\">\n  <thead>\n    <tr style=\"text-align: right;\">\n      <th></th>\n      <th>Intenção</th>\n      <th>Sentença</th>\n    </tr>\n  </thead>\n  <tbody>\n    <tr>\n      <th>0</th>\n      <td>Consultar saldo da conta</td>\n      <td>Qual o meu saldo</td>\n    </tr>\n    <tr>\n      <th>1</th>\n      <td>Interagir com a luz ou o ar-condicionado</td>\n      <td>Ligue a luz</td>\n    </tr>\n    <tr>\n      <th>2</th>\n      <td>Consultar saldo da conta</td>\n      <td>Me diga meu saldo</td>\n    </tr>\n    <tr>\n      <th>3</th>\n      <td>Consultar saldo da conta</td>\n      <td>Qual o meu saldo?</td>\n    </tr>\n    <tr>\n      <th>4</th>\n      <td>Interagir com a luz ou o ar-condicionado</td>\n      <td>está muito claro</td>\n    </tr>\n  </tbody>\n</table>\n</div>"
     },
     "metadata": {},
     "execution_count": 14
    }
   ],
   "source": [
    "df = pd.read_excel(\"sentencas.xlsx\")\n",
    "df.head()"
   ]
  },
  {
   "source": [
    "## Limpando o dataset"
   ],
   "cell_type": "markdown",
   "metadata": {}
  },
  {
   "cell_type": "code",
   "execution_count": 15,
   "metadata": {},
   "outputs": [
    {
     "output_type": "execute_result",
     "data": {
      "text/plain": [
       "                                   Intenção           Sentença\n",
       "0                  Consultar saldo da conta   qual o meu saldo\n",
       "1  Interagir com a luz ou o ar-condicionado        ligue a luz\n",
       "2                  Consultar saldo da conta  me diga meu saldo\n",
       "3                  Consultar saldo da conta  qual o meu saldo \n",
       "4  Interagir com a luz ou o ar-condicionado   está muito claro"
      ],
      "text/html": "<div>\n<style scoped>\n    .dataframe tbody tr th:only-of-type {\n        vertical-align: middle;\n    }\n\n    .dataframe tbody tr th {\n        vertical-align: top;\n    }\n\n    .dataframe thead th {\n        text-align: right;\n    }\n</style>\n<table border=\"1\" class=\"dataframe\">\n  <thead>\n    <tr style=\"text-align: right;\">\n      <th></th>\n      <th>Intenção</th>\n      <th>Sentença</th>\n    </tr>\n  </thead>\n  <tbody>\n    <tr>\n      <th>0</th>\n      <td>Consultar saldo da conta</td>\n      <td>qual o meu saldo</td>\n    </tr>\n    <tr>\n      <th>1</th>\n      <td>Interagir com a luz ou o ar-condicionado</td>\n      <td>ligue a luz</td>\n    </tr>\n    <tr>\n      <th>2</th>\n      <td>Consultar saldo da conta</td>\n      <td>me diga meu saldo</td>\n    </tr>\n    <tr>\n      <th>3</th>\n      <td>Consultar saldo da conta</td>\n      <td>qual o meu saldo</td>\n    </tr>\n    <tr>\n      <th>4</th>\n      <td>Interagir com a luz ou o ar-condicionado</td>\n      <td>está muito claro</td>\n    </tr>\n  </tbody>\n</table>\n</div>"
     },
     "metadata": {},
     "execution_count": 15
    }
   ],
   "source": [
    "df[\"Sentença\"] = df[\"Sentença\"].str.lower()\n",
    "df[\"Sentença\"] = df[\"Sentença\"].str.replace(r\"\\s\\-\\s|\\-\\-+\", \" \", regex=True)\n",
    "df[\"Sentença\"] = df[\"Sentença\"].str.replace(r\"[^\\w\\s\\-]\", \" \", regex=True)\n",
    "df[\"Sentença\"] = df[\"Sentença\"].str.replace(\"foxbot \", \"\", regex=False)\n",
    "df.head()"
   ]
  },
  {
   "source": [
    "## Adequação dos dados para o MultinomialNB"
   ],
   "cell_type": "markdown",
   "metadata": {}
  },
  {
   "cell_type": "code",
   "execution_count": 16,
   "metadata": {},
   "outputs": [],
   "source": [
    "# Adequa os dados para entrada no modelo MultinomialNB e já separa em X e y.\n",
    "v = CountVectorizer()\n",
    "def adaptToModel(df, objective=None, vectorizer=v):\n",
    "    txts = df[\"Sentença\"].tolist()\n",
    "    if objective == \"train\":\n",
    "        counts = vectorizer.fit_transform(txts)\n",
    "        return counts, df[\"Intenção\"]\n",
    "    elif objective == \"test\":\n",
    "        counts = vectorizer.transform(txts)\n",
    "        return counts, df[\"Intenção\"]\n",
    "    else:\n",
    "        raise ValueError(\"Defina o objetivo ('train' ou 'test')\")"
   ]
  },
  {
   "source": [
    "## Separando o dataset em treinamento e teste"
   ],
   "cell_type": "markdown",
   "metadata": {}
  },
  {
   "cell_type": "code",
   "execution_count": 17,
   "metadata": {},
   "outputs": [],
   "source": [
    "# Divide em treinamento e teste, de modo estratificado, o conjunto de dados.\n",
    "split = StratifiedShuffleSplit(n_splits=1, test_size=0.2, random_state=RANDOM_SEED)\n",
    "for train_index, test_index in split.split(df, df[\"Intenção\"]):\n",
    "    strat_train_set = df.loc[train_index]\n",
    "    strat_test_set = df.loc[test_index]"
   ]
  },
  {
   "source": [
    "## Treinando o modelo"
   ],
   "cell_type": "markdown",
   "metadata": {}
  },
  {
   "cell_type": "code",
   "execution_count": 18,
   "metadata": {},
   "outputs": [
    {
     "output_type": "execute_result",
     "data": {
      "text/plain": [
       "MultinomialNB()"
      ]
     },
     "metadata": {},
     "execution_count": 18
    }
   ],
   "source": [
    "model = MultinomialNB()\n",
    "X_train, y_train = adaptToModel(strat_train_set, objective=\"train\")\n",
    "model.fit(X_train, y_train)\n"
   ]
  },
  {
   "source": [
    "## Testando o modelo"
   ],
   "cell_type": "markdown",
   "metadata": {}
  },
  {
   "cell_type": "code",
   "execution_count": 19,
   "metadata": {},
   "outputs": [],
   "source": [
    "X_test, y_test = adaptToModel(strat_test_set, objective=\"test\")"
   ]
  },
  {
   "cell_type": "code",
   "execution_count": 20,
   "metadata": {},
   "outputs": [],
   "source": [
    "pred = cross_val_predict(model, X_test, y_test, cv=10, n_jobs=-1)"
   ]
  },
  {
   "cell_type": "code",
   "execution_count": 23,
   "metadata": {},
   "outputs": [
    {
     "output_type": "execute_result",
     "data": {
      "text/plain": [
       "                                        Sentença  \\\n",
       "222                        quão rico eu tô hoje    \n",
       "291  consulte a situação da minha conta bancária   \n",
       "154                    apague a luz em 5 minutos   \n",
       "49                     devo levar capa de chuva    \n",
       "23                          vai fazer frio hoje    \n",
       "\n",
       "                                         Real  \\\n",
       "222                  Consultar saldo da conta   \n",
       "291                  Consultar saldo da conta   \n",
       "154  Interagir com a luz ou o ar-condicionado   \n",
       "49       Obter informações relativas ao clima   \n",
       "23       Obter informações relativas ao clima   \n",
       "\n",
       "                                    Predicted  \n",
       "222                  Consultar saldo da conta  \n",
       "291                  Consultar saldo da conta  \n",
       "154  Interagir com a luz ou o ar-condicionado  \n",
       "49       Obter informações relativas ao clima  \n",
       "23       Obter informações relativas ao clima  "
      ],
      "text/html": "<div>\n<style scoped>\n    .dataframe tbody tr th:only-of-type {\n        vertical-align: middle;\n    }\n\n    .dataframe tbody tr th {\n        vertical-align: top;\n    }\n\n    .dataframe thead th {\n        text-align: right;\n    }\n</style>\n<table border=\"1\" class=\"dataframe\">\n  <thead>\n    <tr style=\"text-align: right;\">\n      <th></th>\n      <th>Sentença</th>\n      <th>Real</th>\n      <th>Predicted</th>\n    </tr>\n  </thead>\n  <tbody>\n    <tr>\n      <th>222</th>\n      <td>quão rico eu tô hoje</td>\n      <td>Consultar saldo da conta</td>\n      <td>Consultar saldo da conta</td>\n    </tr>\n    <tr>\n      <th>291</th>\n      <td>consulte a situação da minha conta bancária</td>\n      <td>Consultar saldo da conta</td>\n      <td>Consultar saldo da conta</td>\n    </tr>\n    <tr>\n      <th>154</th>\n      <td>apague a luz em 5 minutos</td>\n      <td>Interagir com a luz ou o ar-condicionado</td>\n      <td>Interagir com a luz ou o ar-condicionado</td>\n    </tr>\n    <tr>\n      <th>49</th>\n      <td>devo levar capa de chuva</td>\n      <td>Obter informações relativas ao clima</td>\n      <td>Obter informações relativas ao clima</td>\n    </tr>\n    <tr>\n      <th>23</th>\n      <td>vai fazer frio hoje</td>\n      <td>Obter informações relativas ao clima</td>\n      <td>Obter informações relativas ao clima</td>\n    </tr>\n  </tbody>\n</table>\n</div>"
     },
     "metadata": {},
     "execution_count": 23
    }
   ],
   "source": [
    "output = pd.DataFrame()\n",
    "output[\"Sentença\"] = strat_test_set[\"Sentença\"]\n",
    "output[\"Real\"] = y_test\n",
    "output[\"Predicted\"] = pred\n",
    "output.head()"
   ]
  },
  {
   "cell_type": "code",
   "execution_count": 22,
   "metadata": {},
   "outputs": [
    {
     "output_type": "stream",
     "name": "stdout",
     "text": [
      "Acurácia: 91.43%\n"
     ]
    }
   ],
   "source": [
    "score = accuracy_score(output[\"Real\"], output[\"Predicted\"])\n",
    "print(f\"Acurácia: {score * 100:.2f}%\")"
   ]
  },
  {
   "cell_type": "code",
   "execution_count": null,
   "metadata": {},
   "outputs": [],
   "source": []
  }
 ]
}