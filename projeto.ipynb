{
 "metadata": {
  "language_info": {
   "codemirror_mode": {
    "name": "ipython",
    "version": 3
   },
   "file_extension": ".py",
   "mimetype": "text/x-python",
   "name": "python",
   "nbconvert_exporter": "python",
   "pygments_lexer": "ipython3",
   "version": "3.8.3-final"
  },
  "orig_nbformat": 2,
  "kernelspec": {
   "name": "python383jvsc74a57bd0885c827cd822ba134d644bf7ec93dbbe54e503b864e406fdb8a7c16e78521c44",
   "display_name": "Python 3.8.3 64-bit"
  }
 },
 "nbformat": 4,
 "nbformat_minor": 2,
 "cells": [
  {
   "cell_type": "code",
   "execution_count": 14,
   "metadata": {},
   "outputs": [],
   "source": [
    "import pandas as pd\n",
    "from sklearn.model_selection import StratifiedShuffleSplit\n",
    "from sklearn.naive_bayes import MultinomialNB\n",
    "from sklearn.feature_extraction.text import CountVectorizer\n",
    "from sklearn.metrics import accuracy_score"
   ]
  },
  {
   "cell_type": "code",
   "execution_count": 15,
   "metadata": {},
   "outputs": [],
   "source": [
    "RANDOM_SEED = 13"
   ]
  },
  {
   "cell_type": "code",
   "execution_count": 16,
   "metadata": {},
   "outputs": [
    {
     "output_type": "execute_result",
     "data": {
      "text/plain": [
       "                                   Intenção           Sentença\n",
       "0                  Consultar saldo da conta   Qual o meu saldo\n",
       "1  Interagir com a luz ou o ar-condicionado        Ligue a luz\n",
       "2                  Consultar saldo da conta  Me diga meu saldo\n",
       "3                  Consultar saldo da conta  Qual o meu saldo?\n",
       "4  Interagir com a luz ou o ar-condicionado   está muito claro"
      ],
      "text/html": "<div>\n<style scoped>\n    .dataframe tbody tr th:only-of-type {\n        vertical-align: middle;\n    }\n\n    .dataframe tbody tr th {\n        vertical-align: top;\n    }\n\n    .dataframe thead th {\n        text-align: right;\n    }\n</style>\n<table border=\"1\" class=\"dataframe\">\n  <thead>\n    <tr style=\"text-align: right;\">\n      <th></th>\n      <th>Intenção</th>\n      <th>Sentença</th>\n    </tr>\n  </thead>\n  <tbody>\n    <tr>\n      <th>0</th>\n      <td>Consultar saldo da conta</td>\n      <td>Qual o meu saldo</td>\n    </tr>\n    <tr>\n      <th>1</th>\n      <td>Interagir com a luz ou o ar-condicionado</td>\n      <td>Ligue a luz</td>\n    </tr>\n    <tr>\n      <th>2</th>\n      <td>Consultar saldo da conta</td>\n      <td>Me diga meu saldo</td>\n    </tr>\n    <tr>\n      <th>3</th>\n      <td>Consultar saldo da conta</td>\n      <td>Qual o meu saldo?</td>\n    </tr>\n    <tr>\n      <th>4</th>\n      <td>Interagir com a luz ou o ar-condicionado</td>\n      <td>está muito claro</td>\n    </tr>\n  </tbody>\n</table>\n</div>"
     },
     "metadata": {},
     "execution_count": 16
    }
   ],
   "source": [
    "df = pd.read_csv(\"exemplos.csv\", sep=\",\", index_col=0)\n",
    "df.head()"
   ]
  },
  {
   "source": [
    "## Limpando o dataset"
   ],
   "cell_type": "markdown",
   "metadata": {}
  },
  {
   "cell_type": "code",
   "execution_count": 18,
   "metadata": {},
   "outputs": [],
   "source": [
    "df.Sentença = df[\"Sentença\"].str.lower()"
   ]
  },
  {
   "source": [
    "## Adequação dos dados para o MultinomialNB"
   ],
   "cell_type": "markdown",
   "metadata": {}
  },
  {
   "cell_type": "code",
   "execution_count": 19,
   "metadata": {},
   "outputs": [],
   "source": [
    "# Adequa os dados para entrada no modelo MultinomialNB e já separa em X e y.\n",
    "v = CountVectorizer()\n",
    "def adaptToModel(df, objective=None, vectorizer=v):\n",
    "    txts = df[\"Sentença\"].tolist()\n",
    "    if objective == \"train\":\n",
    "        counts = vectorizer.fit_transform(txts)\n",
    "        return counts, df[\"Intenção\"]\n",
    "    elif objective == \"test\":\n",
    "        counts = vectorizer.transform(txts)\n",
    "        return counts, df[\"Intenção\"]\n",
    "    else:\n",
    "        raise ValueError(\"Defina o objetivo ('train' ou 'test')\")"
   ]
  },
  {
   "source": [
    "## Separando o dataset em treinamento e teste"
   ],
   "cell_type": "markdown",
   "metadata": {}
  },
  {
   "cell_type": "code",
   "execution_count": 20,
   "metadata": {},
   "outputs": [],
   "source": [
    "# Divide em treinamento e teste, de modo estratificado, o conjunto de dados.\n",
    "split = StratifiedShuffleSplit(n_splits=1, test_size=0.2, random_state=RANDOM_SEED)\n",
    "for train_index, test_index in split.split(df, df[\"Intenção\"]):\n",
    "    strat_train_set = df.loc[train_index]\n",
    "    strat_test_set = df.loc[test_index]"
   ]
  },
  {
   "source": [
    "## Treinando o modelo"
   ],
   "cell_type": "markdown",
   "metadata": {}
  },
  {
   "cell_type": "code",
   "execution_count": 21,
   "metadata": {},
   "outputs": [
    {
     "output_type": "execute_result",
     "data": {
      "text/plain": [
       "MultinomialNB()"
      ]
     },
     "metadata": {},
     "execution_count": 21
    }
   ],
   "source": [
    "model = MultinomialNB()\n",
    "train_data = adaptToModel(strat_train_set, objective=\"train\")\n",
    "model.fit(train_data[0], train_data[1])\n"
   ]
  },
  {
   "source": [
    "## Testando o modelo"
   ],
   "cell_type": "markdown",
   "metadata": {}
  },
  {
   "cell_type": "code",
   "execution_count": 22,
   "metadata": {},
   "outputs": [],
   "source": [
    "test_data = adaptToModel(strat_test_set, objective=\"test\")"
   ]
  },
  {
   "cell_type": "code",
   "execution_count": 23,
   "metadata": {},
   "outputs": [],
   "source": [
    "pred = model.predict(test_data[0])"
   ]
  },
  {
   "cell_type": "code",
   "execution_count": 24,
   "metadata": {},
   "outputs": [
    {
     "output_type": "execute_result",
     "data": {
      "text/plain": [
       "                                         Real  \\\n",
       "58       Obter informações relativas ao clima   \n",
       "112      Obter informações relativas ao clima   \n",
       "31                   Consultar saldo da conta   \n",
       "79   Interagir com a luz ou o ar-condicionado   \n",
       "118      Obter informações relativas ao clima   \n",
       "\n",
       "                                    Predicted  \n",
       "58       Obter informações relativas ao clima  \n",
       "112      Obter informações relativas ao clima  \n",
       "31                   Consultar saldo da conta  \n",
       "79   Interagir com a luz ou o ar-condicionado  \n",
       "118      Obter informações relativas ao clima  "
      ],
      "text/html": "<div>\n<style scoped>\n    .dataframe tbody tr th:only-of-type {\n        vertical-align: middle;\n    }\n\n    .dataframe tbody tr th {\n        vertical-align: top;\n    }\n\n    .dataframe thead th {\n        text-align: right;\n    }\n</style>\n<table border=\"1\" class=\"dataframe\">\n  <thead>\n    <tr style=\"text-align: right;\">\n      <th></th>\n      <th>Real</th>\n      <th>Predicted</th>\n    </tr>\n  </thead>\n  <tbody>\n    <tr>\n      <th>58</th>\n      <td>Obter informações relativas ao clima</td>\n      <td>Obter informações relativas ao clima</td>\n    </tr>\n    <tr>\n      <th>112</th>\n      <td>Obter informações relativas ao clima</td>\n      <td>Obter informações relativas ao clima</td>\n    </tr>\n    <tr>\n      <th>31</th>\n      <td>Consultar saldo da conta</td>\n      <td>Consultar saldo da conta</td>\n    </tr>\n    <tr>\n      <th>79</th>\n      <td>Interagir com a luz ou o ar-condicionado</td>\n      <td>Interagir com a luz ou o ar-condicionado</td>\n    </tr>\n    <tr>\n      <th>118</th>\n      <td>Obter informações relativas ao clima</td>\n      <td>Obter informações relativas ao clima</td>\n    </tr>\n  </tbody>\n</table>\n</div>"
     },
     "metadata": {},
     "execution_count": 24
    }
   ],
   "source": [
    "output = pd.DataFrame(columns=[\"Real\", \"Predicted\"])\n",
    "output[\"Real\"] = test_data[1]\n",
    "output[\"Predicted\"] = pred\n",
    "output.head()"
   ]
  },
  {
   "cell_type": "code",
   "execution_count": 26,
   "metadata": {},
   "outputs": [
    {
     "output_type": "stream",
     "name": "stdout",
     "text": [
      "Acurácia: 92.0%\n"
     ]
    }
   ],
   "source": [
    "score = accuracy_score(output[\"Real\"], output[\"Predicted\"])\n",
    "print(f\"Acurácia: {score * 100}%\")"
   ]
  },
  {
   "cell_type": "code",
   "execution_count": null,
   "metadata": {},
   "outputs": [],
   "source": []
  }
 ]
}